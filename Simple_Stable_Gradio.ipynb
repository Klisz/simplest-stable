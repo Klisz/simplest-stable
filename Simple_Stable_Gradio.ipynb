{
 "cells": [
  {
   "cell_type": "code",
   "execution_count": 2,
   "metadata": {},
   "outputs": [
    {
     "data": {
      "application/vnd.jupyter.widget-view+json": {
       "model_id": "566b0803b7c240428ba197809ef92c29",
       "version_major": 2,
       "version_minor": 0
      },
      "text/plain": [
       "Fetching 15 files:   0%|          | 0/15 [00:00<?, ?it/s]"
      ]
     },
     "metadata": {},
     "output_type": "display_data"
    },
    {
     "name": "stdout",
     "output_type": "stream",
     "text": [
      "Loaded the following embeddings: v1_admiralexclipse v1_bad_prompt v1_boris_buttons v1_cad_style_100 v1_CharTurner v1_naval_bicorne v1_naval_portrait v1_rainbow_ocean v1_spectral_style\n",
      "Did not load the following embeddings (probably because they're for a different version of Stable Diffusion): psh pt16 v2_ActionHelper v2_AnimeScreenCap v2_cad_rainbow v2_cad_style_2_400 v2_cad_style_400 v2_CandyPunk v2_CarHelper v2_ChemPunk v2_CinemaHelper v2_classipeint v2_CutAway v2_double_exposure v2_dreamink v2_holopastel v2_HyperFluid v2_HyperSmoke v2_InkPunk768 v2_joe87_vibe v2_Kipaki v2_knollingcase v2_laxpeint v2_naval_portrait_400 v2_nipainterly v2_painterly v2_painterly_portrait v2_smoose v2_SocialistRealism v2_tf86movie v2_tfboxart v2_ThisHonor v2_VikingPunk v2_VintageHelper v2_nidream v2_niscreen v2_wat v2_where v2_why v2_wrong\n",
      "\n",
      "Saving images to images/2023_02_04.\n",
      "Found custom models folder at B:\\Files\\AI stuff\\Models\\models!\n",
      "Found custom embeddings folder at B:\\Files\\AI stuff\\Embeddings\\embeddings!\n",
      "Loading models and files...\n",
      "Running on local URL:  http://127.0.0.1:7861\n",
      "\n",
      "To create a public link, set `share=True` in `launch()`.\n"
     ]
    },
    {
     "data": {
      "text/html": [
       "<div><iframe src=\"http://127.0.0.1:7861/\" width=\"100%\" height=\"1000\" allow=\"autoplay; camera; microphone; clipboard-read; clipboard-write;\" frameborder=\"0\" allowfullscreen></iframe></div>"
      ],
      "text/plain": [
       "<IPython.core.display.HTML object>"
      ]
     },
     "metadata": {},
     "output_type": "display_data"
    }
   ],
   "source": [
    "#install\n",
    "#@markdown To set up Simple Stable, click on the triangle play button on the left. The interface will appear below.\n",
    "#@markdown\n",
    "#@markdown To hide large or annoying code on the left, double-click on this text.\n",
    "#@markdown\n",
    "#@markdown To open the interface in a new tab or window, click on the link after \"Running on public URL\".\\\n",
    "#@markdown When loading a new model for the first time, it may take a few minutes to download, but switching between already downloaded models will be faster.\\\n",
    "#@markdown Please note that time estimates may not be accurate.\n",
    "\n",
    "starting_model_to_load = \"Stable Diffusion 1.5\" #@param [\"Stable Diffusion 1.4\",\"Stable Diffusion 1.5\",\"Stable Diffusion 2.0 (512)\",\"Stable Diffusion 2.0 (768)\",\"Stable Diffusion 2.1 (512)\",\"Stable Diffusion 2.1 (768)\",\"Dreamlike Diffusion\",\"Openjourney\",\"Openjourney V2 Beta\",\"Oldjourney Lite\",\"Oldjourney Ultra\",\"seek.art_MEGA\",\"Sygil Diffusion\",\"Analog Diffusion\",\"Dreamlike Photoreal\",\"Anything v3.0\",\"Anything v4.0\",\"Waifu Diffusion 1.4 (Epoch 1 Test Version)\",\"Plat Diffusion (Waifu 1.4 finetune)\",\"AnimeChanStyle\",\"Inkpunk Diffusion\",\"Vivid Watercolors\",\"Future Diffusion\",\"Gigafractal Diffusion (768)\",\"Van Gogh Diffusion\",\"Corporate Memphis\",\"Pokemon Diffusion\",\"Pokemon Sugimori SD 2.1\",\"Robo Diffusion\",\"Classic Animation Diffusion\",\"Modern Animation Diffusion\",\"Ghibli Diffusion\",\"Furry Diffusion\"] {type:\"string\"}\n",
    "\n",
    "download_a_collection_of_text_inversion_embeddings_and_load_them = False #@param{type: \"boolean\"}\n",
    "\n",
    "test_mode = True\n",
    "enable_attention_slicing = False\n",
    "enable_xformers = False\n",
    "%env PYTORCH_CUDA_ALLOC_CONF=garbage_collection_threshold:0.6,max_split_size_mb:128\n",
    "\n",
    "try:\n",
    "  import torch\n",
    "  import src\n",
    "  %cd /content/simplest-stable/\n",
    "except ImportError as e:\n",
    "  import os, subprocess\n",
    "  %cd /content/\n",
    "  subprocess.run([\"git\", \"clone\", \"https://github.com/cadaeix/simplest-stable.git\"])\n",
    "  %cd /content/simplest-stable/\n",
    "  if test_mode:\n",
    "    subprocess.run([\"git\", \"checkout\", \"test-branch\"])\n",
    "  subprocess.run([\"pip3\", \"install\", \"-r\", \"requirements.txt\"])\n",
    "  if enable_xformers:\n",
    "    subprocess.run(['pip', 'install', 'triton==2.0.0.dev20221202', 'xformers==0.0.16rc424'])\n",
    "  subprocess.run([\"pip3\", \"install\", \"gradio\"])\n",
    "  outputs_path = \"/content/images/\"\n",
    "  subprocess.run([\"mkdir\", \"-p\", outputs_path])\n",
    "  print(f\"Outputs will be saved to {outputs_path}.\")\n",
    "  downloaded_embeds_path = None\n",
    "\n",
    "import os, subprocess, sys, random, math, json, glob, logging\n",
    "logging.disable(sys.maxsize)\n",
    "\n",
    "# Pillow occasionally has odd import errors, the below fix them\n",
    "import PIL.Image\n",
    "if not hasattr(PIL.Image, 'Resampling'):\n",
    "  PIL.Image.Resampling = PIL.Image\n",
    "\n",
    "import PIL._util\n",
    "if not hasattr(PIL._util, 'is_path'):\n",
    "  from pathlib import Path\n",
    "  def is_path(f):\n",
    "    return isinstance(f, (bytes, str, Path))\n",
    "  PIL._util.is_path = is_path\n",
    "\n",
    "import PIL.TiffTags\n",
    "if not hasattr(PIL.TiffTags, 'IFD'):\n",
    "  PIL.TiffTags.IFD = 13\n",
    "if not hasattr(PIL.TiffTags, 'LONG8'):\n",
    "  PIL.TiffTags.LONG8 = 16\n",
    "\n",
    "from datetime import datetime\n",
    "from src.loading import prepare_pipe\n",
    "from src.process import process_and_generate\n",
    "from src.utils import free_ram\n",
    "from src.gradio_ui import main\n",
    "from IPython.display import display, clear_output\n",
    "sys.path.append(\".\")\n",
    "\n",
    "downloaded_embeds_path = None\n",
    "if download_a_collection_of_text_inversion_embeddings_and_load_them:\n",
    "  downloaded_embeds_path = \"/content/embeds/\"\n",
    "  if not os.path.exists(downloaded_embeds_path):\n",
    "    subprocess.run([\"mkdir\", \"-p\", downloaded_embeds_path])\n",
    "    with open('src/resources/embeddings_links.json') as embeddingfile:\n",
    "      embed_dict = json.load(embeddingfile)\n",
    "    for embed in embed_dict[\"embeddings\"]:\n",
    "      subprocess.run([\"wget\", \"-O\", os.path.join(downloaded_embeds_path, embed[\"filename\"]), embed[\"download_url\"]])\n",
    "\n",
    "try:\n",
    "  outputs_folder\n",
    "except NameError as e:\n",
    "  outputs_path = \"images/\"\n",
    "  if not os.path.exists(outputs_path):\n",
    "      os.mkdir(outputs_path)\n",
    "  outputs_folder = os.path.join(outputs_path, datetime.now().strftime(\"%Y_%m_%d\"))\n",
    "\n",
    "try:\n",
    "  custom_models_folder\n",
    "  custom_models_path = custom_models_folder if os.path.exists(custom_models_folder) else None\n",
    "except NameError as e:\n",
    "  custom_models_path = None\n",
    "\n",
    "try:\n",
    "  custom_embeddings_folder\n",
    "  embeddings_path = custom_embeddings_folder if os.path.exists(custom_embeddings_folder) else None\n",
    "except NameError as e:\n",
    "  embeddings_path = None\n",
    "\n",
    "try: \n",
    "  custom_randomizer_folder\n",
    "  randomizer_folder = custom_randomizer_folder if os.path.exists(custom_randomizer_folder) else None\n",
    "except NameError as e:\n",
    "  randomizer_folder = None\n",
    "  \n",
    "clear_output(wait=False)\n",
    "\n",
    "try:\n",
    "  main(\n",
    "    starting_model_to_load = starting_model_to_load, \n",
    "    outputs_folder = outputs_folder, \n",
    "    custom_models_path = custom_models_path,\n",
    "    embeddings_path = embeddings_path, \n",
    "    downloaded_embeddings = downloaded_embeds_path,\n",
    "    custom_randomizer_folder = randomizer_folder,\n",
    "    enable_attention_slicing = enable_attention_slicing,\n",
    "    enable_xformers = enable_xformers)\n",
    "except Exception as e:\n",
    "  print(\"Sorry, for some reason the interface is refusing to start. Try running this cell again or going to Runtime -> Disconnect and Delete Runtime and then rerunning this cell, and then if that fails, take a screenshot or copy the error below and ask @Cadaeic about it!\")\n",
    "  raise e"
   ]
  }
 ],
 "metadata": {
  "kernelspec": {
   "display_name": "env",
   "language": "python",
   "name": "python3"
  },
  "language_info": {
   "codemirror_mode": {
    "name": "ipython",
    "version": 3
   },
   "file_extension": ".py",
   "mimetype": "text/x-python",
   "name": "python",
   "nbconvert_exporter": "python",
   "pygments_lexer": "ipython3",
   "version": "3.10.8"
  },
  "orig_nbformat": 4,
  "vscode": {
   "interpreter": {
    "hash": "1861d2fcc669060bd467c87c4aff1a502fd6347824067a83c8822180acbf3e1f"
   }
  }
 },
 "nbformat": 4,
 "nbformat_minor": 2
}

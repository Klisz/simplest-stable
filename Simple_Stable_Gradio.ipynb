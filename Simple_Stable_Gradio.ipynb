{
 "cells": [
  {
   "cell_type": "code",
   "execution_count": 1,
   "metadata": {},
   "outputs": [
    {
     "data": {
      "application/vnd.jupyter.widget-view+json": {
       "model_id": "15268bd9c85b48ad9c2cbc8e4b2cf016",
       "version_major": 2,
       "version_minor": 0
      },
      "text/plain": [
       "Fetching 15 files:   0%|          | 0/15 [00:00<?, ?it/s]"
      ]
     },
     "metadata": {},
     "output_type": "display_data"
    },
    {
     "name": "stdout",
     "output_type": "stream",
     "text": [
      "Running on local URL:  http://127.0.0.1:7861\n",
      "\n",
      "To create a public link, set `share=True` in `launch()`.\n"
     ]
    },
    {
     "data": {
      "text/html": [
       "<div><iframe src=\"http://127.0.0.1:7861/\" width=\"100%\" height=\"500\" allow=\"autoplay; camera; microphone; clipboard-read; clipboard-write;\" frameborder=\"0\" allowfullscreen></iframe></div>"
      ],
      "text/plain": [
       "<IPython.core.display.HTML object>"
      ]
     },
     "metadata": {},
     "output_type": "display_data"
    },
    {
     "name": "stdout",
     "output_type": "stream",
     "text": [
      "Using the seed 4026901179\n",
      "a cat\n"
     ]
    },
    {
     "data": {
      "application/vnd.jupyter.widget-view+json": {
       "model_id": "5ce152d4d0d54af08ee8351e80c2e038",
       "version_major": 2,
       "version_minor": 0
      },
      "text/plain": [
       "  0%|          | 0/20 [00:00<?, ?it/s]"
      ]
     },
     "metadata": {},
     "output_type": "display_data"
    },
    {
     "data": {
      "application/vnd.jupyter.widget-view+json": {
       "model_id": "356743c663c14fd7bdf70c020b5b2a4f",
       "version_major": 2,
       "version_minor": 0
      },
      "text/plain": [
       "Fetching 15 files:   0%|          | 0/15 [00:00<?, ?it/s]"
      ]
     },
     "metadata": {},
     "output_type": "display_data"
    },
    {
     "name": "stdout",
     "output_type": "stream",
     "text": [
      "Using the seed 2596814745\n",
      "nvinkpunk, a cat\n"
     ]
    },
    {
     "data": {
      "application/vnd.jupyter.widget-view+json": {
       "model_id": "81ceb77b34e34197b04516595352d350",
       "version_major": 2,
       "version_minor": 0
      },
      "text/plain": [
       "  0%|          | 0/20 [00:00<?, ?it/s]"
      ]
     },
     "metadata": {},
     "output_type": "display_data"
    }
   ],
   "source": [
    "import gradio as gr\n",
    "from typing import Dict\n",
    "from src import SimpleStable\n",
    "import gc\n",
    "import torch\n",
    "\n",
    "pipe = SimpleStable.setup_pipe(\"Stable Diffusion 1.5\")\n",
    "\n",
    "def its_loading(loaded_model_name: str, chosen_model_name: str):\n",
    "    global pipe\n",
    "\n",
    "    if pipe is None or loaded_model_name != chosen_model_name:\n",
    "        pipe = None\n",
    "        gc.collect()\n",
    "        torch.cuda.empty_cache()\n",
    "        pipe = SimpleStable.setup_pipe(chosen_model_name)\n",
    "\n",
    "        return f\"{chosen_model_name} loaded\", chosen_model_name\n",
    "\n",
    "    return \"Model already loaded\", loaded_model_name\n",
    "\n",
    "\n",
    "def is_custom_resolution(resolution: str):\n",
    "    return resolution == \"Custom (Select this and put width and height below)\"\n",
    "\n",
    "def generate(prompt, negative, number_of_images, resolution, custom_width, custom_height, steps, sampler, seed, scale, additional_options, upscale_strength, model_name):\n",
    "    global pipe \n",
    "    width, height = [custom_width, custom_height] if is_custom_resolution(resolution) else SimpleStable.res_dict[resolution]\n",
    "    images = SimpleStable.gradio_main({\n",
    "        \"model_name\": model_name,\n",
    "        \"prompt\": prompt,\n",
    "        \"negative\": negative if negative != None else \"\",\n",
    "        \"init_img\": None,\n",
    "        \"number_of_images\": number_of_images,\n",
    "        \"H\" : height - height % 64,\n",
    "        \"W\" : width - width % 64,\n",
    "        \"steps\": steps,\n",
    "        \"sampler\": sampler,\n",
    "        \"scale\": scale,\n",
    "        \"eta\" : 0.0,\n",
    "        \"tiling\" : False,\n",
    "        \"upscale\": False,\n",
    "        \"seed\": seed,\n",
    "        \"add_keyword\": False\n",
    "    }, pipe)\n",
    "\n",
    "    return images\n",
    "\n",
    "\n",
    "def generate_options():\n",
    "    prompt = gr.Textbox(placeholder = \"Describe a prompt here\", label = \"Prompt\")\n",
    "    negative = gr.Textbox(placeholder = \"Negative prompt\", label = \"Negative\")\n",
    "    with gr.Row():\n",
    "        with gr.Column(scale=1):\n",
    "            number_of_images = gr.Number(value=1, precision=0, label=\"Number of Images\")\n",
    "        with gr.Column(scale=2):\n",
    "            resolution = gr.Dropdown(choices = list(SimpleStable.res_dict.keys()), label=\"Image Resolution\", value=\"Square 512x512 (default, good for most models)\")\n",
    "\n",
    "    with gr.Accordion(\"Advanced Settings\"):\n",
    "        with gr.Row():\n",
    "            custom_width = gr.Slider(minimum = 512, maximum = 1152, value= 512, step = 64, label=\"Width (if Custom is selected)\", interactive = True)\n",
    "            custom_height = gr.Slider(minimum = 512, maximum = 1152, value= 512, step = 64, label=\"Height (if Custom is selected)\", interactive = True)\n",
    "        with gr.Row():\n",
    "            steps = gr.Slider(minimum = 1, maximum = 100, value= 20, step = 1, label=\"Step Count\", interactive = True)\n",
    "            sampler = gr.Dropdown(choices = SimpleStable.sampler_list, label=\"Sampler\", value=\"Euler a\")\n",
    "        with gr.Row():\n",
    "            seed = gr.Number(value=-1, precision=0, label=\"Seed\")\n",
    "            scale = gr.Slider(minimum = 1, maximum = 20, value= 7, step = 0.5, label=\"Guidance Scale\", interactive = True)\n",
    "        with gr.Row():\n",
    "            additional_options = gr.CheckboxGroup([\"Tiling\", \"SD Upscale\"], interactive=True)\n",
    "            upscale_strength = gr.Slider(minimum = 0.1, maximum = 1, value=0.2, step = 0.05, label=\"Guidance Scale\", interactive = True)\n",
    "   \n",
    "    \n",
    "    return prompt, negative, number_of_images, resolution, custom_width, custom_height, steps, sampler, seed, scale, additional_options, upscale_strength\n",
    "\n",
    "with gr.Blocks(css=\"/src/gradio.css\") as main:\n",
    "    current_loaded_model_name = gr.State(\"Stable Diffusion 1.5\")\n",
    "    with gr.Row():\n",
    "        model_name = gr.Dropdown(choices = list(SimpleStable.model_dict.keys()), value = \"Stable Diffusion 1.5\", show_label=False)\n",
    "        model_submit = gr.Button(value=\"Load Model\", interactive=True)\n",
    "    loading_status = gr.Markdown(\"\")\n",
    "\n",
    "    prompt, negative, number_of_images, resolution, custom_width, custom_height, steps, sampler, seed, scale, additional_options, upscale_strength = generate_options()\n",
    "\n",
    "    button = gr.Button(label=\"Generate\")\n",
    "    image_output = gr.Gallery(interactive = False)\n",
    "\n",
    "    model_submit.click(its_loading, inputs=[current_loaded_model_name, model_name], outputs=[loading_status, current_loaded_model_name])\n",
    "    button.click(generate, inputs=[prompt, negative, number_of_images, resolution, custom_width, custom_height, steps, sampler, seed, scale, additional_options, upscale_strength, current_loaded_model_name], outputs=[image_output])\n",
    "\n",
    "main.queue()\n",
    "main.launch(debug=True)"
   ]
  }
 ],
 "metadata": {
  "kernelspec": {
   "display_name": "env",
   "language": "python",
   "name": "python3"
  },
  "language_info": {
   "codemirror_mode": {
    "name": "ipython",
    "version": 3
   },
   "file_extension": ".py",
   "mimetype": "text/x-python",
   "name": "python",
   "nbconvert_exporter": "python",
   "pygments_lexer": "ipython3",
   "version": "3.10.8"
  },
  "orig_nbformat": 4,
  "vscode": {
   "interpreter": {
    "hash": "1861d2fcc669060bd467c87c4aff1a502fd6347824067a83c8822180acbf3e1f"
   }
  }
 },
 "nbformat": 4,
 "nbformat_minor": 2
}

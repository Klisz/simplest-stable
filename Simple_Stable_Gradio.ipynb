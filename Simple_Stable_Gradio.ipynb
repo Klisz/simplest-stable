{
 "cells": [
  {
   "cell_type": "code",
   "execution_count": 1,
   "metadata": {},
   "outputs": [
    {
     "name": "stdout",
     "output_type": "stream",
     "text": [
      "Loading models and files...\n"
     ]
    },
    {
     "data": {
      "application/vnd.jupyter.widget-view+json": {
       "model_id": "35fea555b3714e5faad6c49b38a4a5a1",
       "version_major": 2,
       "version_minor": 0
      },
      "text/plain": [
       "Fetching 15 files:   0%|          | 0/15 [00:00<?, ?it/s]"
      ]
     },
     "metadata": {},
     "output_type": "display_data"
    },
    {
     "name": "stdout",
     "output_type": "stream",
     "text": [
      "Running on local URL:  http://127.0.0.1:7861\n",
      "\n",
      "To create a public link, set `share=True` in `launch()`.\n"
     ]
    },
    {
     "data": {
      "text/html": [
       "<div><iframe src=\"http://127.0.0.1:7861/\" width=\"100%\" height=\"500\" allow=\"autoplay; camera; microphone; clipboard-read; clipboard-write;\" frameborder=\"0\" allowfullscreen></iframe></div>"
      ],
      "text/plain": [
       "<IPython.core.display.HTML object>"
      ]
     },
     "metadata": {},
     "output_type": "display_data"
    },
    {
     "name": "stdout",
     "output_type": "stream",
     "text": [
      "Using the seed 547245428\n"
     ]
    },
    {
     "data": {
      "application/vnd.jupyter.widget-view+json": {
       "model_id": "305b4c2060b141228df27df1236ee75c",
       "version_major": 2,
       "version_minor": 0
      },
      "text/plain": [
       "  0%|          | 0/20 [00:00<?, ?it/s]"
      ]
     },
     "metadata": {},
     "output_type": "display_data"
    },
    {
     "name": "stdout",
     "output_type": "stream",
     "text": [
      "Using the seed 547245428\n"
     ]
    },
    {
     "data": {
      "application/vnd.jupyter.widget-view+json": {
       "model_id": "49d2176b332e4fe5aa5a46e11fa7d8e5",
       "version_major": 2,
       "version_minor": 0
      },
      "text/plain": [
       "  0%|          | 0/20 [00:00<?, ?it/s]"
      ]
     },
     "metadata": {},
     "output_type": "display_data"
    },
    {
     "name": "stdout",
     "output_type": "stream",
     "text": [
      "Using the seed 3451888470\n"
     ]
    },
    {
     "data": {
      "application/vnd.jupyter.widget-view+json": {
       "model_id": "4e79edcbaefe486481cb7670cd6a3ce0",
       "version_major": 2,
       "version_minor": 0
      },
      "text/plain": [
       "  0%|          | 0/20 [00:00<?, ?it/s]"
      ]
     },
     "metadata": {},
     "output_type": "display_data"
    },
    {
     "name": "stdout",
     "output_type": "stream",
     "text": [
      "Using the seed 3451888470\n"
     ]
    },
    {
     "data": {
      "application/vnd.jupyter.widget-view+json": {
       "model_id": "2f3fd6083f6747d480dce9ffb7946833",
       "version_major": 2,
       "version_minor": 0
      },
      "text/plain": [
       "  0%|          | 0/20 [00:00<?, ?it/s]"
      ]
     },
     "metadata": {},
     "output_type": "display_data"
    },
    {
     "name": "stdout",
     "output_type": "stream",
     "text": [
      "Using the seed 3451888470\n"
     ]
    },
    {
     "data": {
      "application/vnd.jupyter.widget-view+json": {
       "model_id": "0c5db31be4824ee5a7bea7ff73e7e578",
       "version_major": 2,
       "version_minor": 0
      },
      "text/plain": [
       "  0%|          | 0/20 [00:00<?, ?it/s]"
      ]
     },
     "metadata": {},
     "output_type": "display_data"
    },
    {
     "name": "stdout",
     "output_type": "stream",
     "text": [
      "Using the seed 3451888471\n"
     ]
    },
    {
     "data": {
      "application/vnd.jupyter.widget-view+json": {
       "model_id": "5d82879d38f54d6d83ea52dda55830ca",
       "version_major": 2,
       "version_minor": 0
      },
      "text/plain": [
       "  0%|          | 0/20 [00:00<?, ?it/s]"
      ]
     },
     "metadata": {},
     "output_type": "display_data"
    },
    {
     "name": "stdout",
     "output_type": "stream",
     "text": [
      "Using the seed 3451888472\n"
     ]
    },
    {
     "data": {
      "application/vnd.jupyter.widget-view+json": {
       "model_id": "83ad55e4eccf42e4955424622d766339",
       "version_major": 2,
       "version_minor": 0
      },
      "text/plain": [
       "  0%|          | 0/20 [00:00<?, ?it/s]"
      ]
     },
     "metadata": {},
     "output_type": "display_data"
    },
    {
     "name": "stdout",
     "output_type": "stream",
     "text": [
      "Using the seed 34734269\n"
     ]
    },
    {
     "data": {
      "application/vnd.jupyter.widget-view+json": {
       "model_id": "c0339cc88d1f4e95aa809cda9053d9bc",
       "version_major": 2,
       "version_minor": 0
      },
      "text/plain": [
       "  0%|          | 0/20 [00:00<?, ?it/s]"
      ]
     },
     "metadata": {},
     "output_type": "display_data"
    },
    {
     "name": "stdout",
     "output_type": "stream",
     "text": [
      "Using the seed 34734270\n"
     ]
    },
    {
     "data": {
      "application/vnd.jupyter.widget-view+json": {
       "model_id": "ab63e1a4a3b0493aa2fa50dcaf3beff3",
       "version_major": 2,
       "version_minor": 0
      },
      "text/plain": [
       "  0%|          | 0/20 [00:00<?, ?it/s]"
      ]
     },
     "metadata": {},
     "output_type": "display_data"
    },
    {
     "name": "stdout",
     "output_type": "stream",
     "text": [
      "Using the seed 34734271\n"
     ]
    },
    {
     "data": {
      "application/vnd.jupyter.widget-view+json": {
       "model_id": "457d100c1143449bb8d7dc4614529b20",
       "version_major": 2,
       "version_minor": 0
      },
      "text/plain": [
       "  0%|          | 0/20 [00:00<?, ?it/s]"
      ]
     },
     "metadata": {},
     "output_type": "display_data"
    },
    {
     "name": "stdout",
     "output_type": "stream",
     "text": [
      "Using the seed 34734269\n"
     ]
    },
    {
     "data": {
      "application/vnd.jupyter.widget-view+json": {
       "model_id": "87037c20bc1f4116964d41d4c4837ac1",
       "version_major": 2,
       "version_minor": 0
      },
      "text/plain": [
       "  0%|          | 0/20 [00:00<?, ?it/s]"
      ]
     },
     "metadata": {},
     "output_type": "display_data"
    },
    {
     "name": "stdout",
     "output_type": "stream",
     "text": [
      "Using the seed 34734270\n"
     ]
    },
    {
     "data": {
      "application/vnd.jupyter.widget-view+json": {
       "model_id": "616ae39d96294a1587f135ea9f25cb77",
       "version_major": 2,
       "version_minor": 0
      },
      "text/plain": [
       "  0%|          | 0/20 [00:00<?, ?it/s]"
      ]
     },
     "metadata": {},
     "output_type": "display_data"
    },
    {
     "name": "stdout",
     "output_type": "stream",
     "text": [
      "Using the seed 34734271\n"
     ]
    },
    {
     "data": {
      "application/vnd.jupyter.widget-view+json": {
       "model_id": "2ead6f2bf6c947458b217bd8977f4299",
       "version_major": 2,
       "version_minor": 0
      },
      "text/plain": [
       "  0%|          | 0/20 [00:00<?, ?it/s]"
      ]
     },
     "metadata": {},
     "output_type": "display_data"
    }
   ],
   "source": [
    "#install\n",
    "#@markdown If the code to the left is too large or annoying, double click on this text to hide it<br/>See above cell for model descriptions and settings explanation <br />\n",
    "try:\n",
    "  import torch\n",
    "  from src import SimpleStable\n",
    "except ImportError as e:\n",
    "  print(\"Installing required libraries...\")\n",
    "  !pip3 install torch torchvision torchaudio diffusers transformers accelerate scipy pillow tqdm requests huggingface_hub ipywidgets lark --extra-index-url https://download.pytorch.org/whl/cu116 > /dev/null\n",
    "  %cd /content/\n",
    "  !git clone https://github.com/cadaeix/simplest-stable.git > /dev/null\n",
    "  outputs_path = \"/content/images/\"\n",
    "  !mkdir -p $outputs_path\n",
    "  #print(f\"Outputs will be saved to {outputs_path}.\")\n",
    "\n",
    "import random\n",
    "import gradio as gr\n",
    "from typing import Dict\n",
    "from src import SimpleStable\n",
    "import gc\n",
    "import torch\n",
    "\n",
    "print(\"Loading models and files...\")\n",
    "\n",
    "css = \"\"\n",
    "\n",
    "with open(\"src/gradio.css\") as file:\n",
    "    css += file.read() + \"\\n\"\n",
    "\n",
    "pipe = SimpleStable.setup_pipe(\"Stable Diffusion 1.5\")\n",
    "\n",
    "def load_model(loaded_model_name: str, chosen_model_name: str):\n",
    "    global pipe\n",
    "\n",
    "    if pipe is None or loaded_model_name != chosen_model_name:\n",
    "        pipe = None\n",
    "        gc.collect()\n",
    "        torch.cuda.empty_cache()\n",
    "        pipe = SimpleStable.setup_pipe(chosen_model_name)\n",
    "\n",
    "        return f\"{chosen_model_name} loaded\", chosen_model_name\n",
    "\n",
    "    return \"Model already loaded\", loaded_model_name\n",
    "\n",
    "def is_custom_resolution(resolution: str):\n",
    "    return resolution == \"Custom (Select this and put width and height below)\"\n",
    "\n",
    "def generate(mode, prompt, negative, number_of_images, resolution, custom_width, custom_height, steps, sampler, seed, scale, additional_options, upscale_strength, input_image, img2img_strength, inpaint_image, inpaint_strength, model_name):\n",
    "    global pipe \n",
    "\n",
    "    if mode == \"txt2img\":\n",
    "        init_img = None\n",
    "        mask_image = None\n",
    "        strength = None\n",
    "    elif mode == \"img2img\":\n",
    "        init_img = input_image\n",
    "        mask_image = None\n",
    "        strength = img2img_strength\n",
    "    elif mode == \"inpainting\":\n",
    "        init_img = inpaint_image[\"image\"]\n",
    "        mask_image = inpaint_image[\"mask\"]\n",
    "        strength = inpaint_strength\n",
    "\n",
    "    used_seed = random.randint(0, 2**32) if seed < 0 else seed\n",
    "    width, height = [custom_width, custom_height] if is_custom_resolution(resolution) else SimpleStable.res_dict[resolution]\n",
    "    images = SimpleStable.gradio_main({\n",
    "        \"model_name\": model_name,\n",
    "        \"prompt\": prompt,\n",
    "        \"negative\": negative if negative != None else \"\",\n",
    "        \"init_img\": init_img,\n",
    "        \"mask_image\": mask_image,\n",
    "        \"strength\": strength,\n",
    "        \"number_of_images\": number_of_images,\n",
    "        \"H\" : height - height % 64,\n",
    "        \"W\" : width - width % 64,\n",
    "        \"steps\": steps,\n",
    "        \"sampler\": sampler,\n",
    "        \"scale\": scale,\n",
    "        \"eta\" : 0.0,\n",
    "        \"tiling\" : \"Tiling\" in additional_options,\n",
    "        \"upscale\": \"SD Upscale\" in additional_options,\n",
    "        \"upscale_strength\": upscale_strength if \"SD Upscale\" in additional_options else None,\n",
    "        \"detail_scale\" : 10,\n",
    "        \"seed\": used_seed,\n",
    "        \"add_keyword\": \"Don't insert model keyword\" not in additional_options\n",
    "    }, pipe)\n",
    "\n",
    "    return images, used_seed\n",
    "\n",
    "\n",
    "def generate_options():\n",
    "    with gr.Row():\n",
    "        with gr.Column(scale=1):\n",
    "            number_of_images = gr.Number(value=1, precision=0, label=\"Number of Images\")\n",
    "        with gr.Column(scale=2):\n",
    "            resolution = gr.Dropdown(choices = list(SimpleStable.res_dict.keys()), label=\"Image Resolution\", value=\"Square 512x512 (default, good for most models)\")\n",
    "\n",
    "    with gr.Accordion(\"Advanced Settings\"):\n",
    "        with gr.Row():\n",
    "            custom_width = gr.Slider(minimum = 512, maximum = 1152, value= 512, step = 64, label=\"Width (if Custom is selected)\", interactive = True)\n",
    "            custom_height = gr.Slider(minimum = 512, maximum = 1152, value= 512, step = 64, label=\"Height (if Custom is selected)\", interactive = True)\n",
    "        with gr.Row():\n",
    "            steps = gr.Slider(minimum = 1, maximum = 100, value= 20, step = 1, label=\"Step Count\", interactive = True)\n",
    "            sampler = gr.Dropdown(choices = SimpleStable.sampler_list, label=\"Sampler\", value=\"Euler a\")\n",
    "        with gr.Row():\n",
    "            with gr.Column(scale=1):\n",
    "                seed = gr.Number(value=-1, precision=0, label=\"Seed\", interactive=True)\n",
    "            with gr.Column(scale=1):\n",
    "                reuse_seed_button = gr.Button(value=\"Last Seed\")\n",
    "                random_seed_button = gr.Button(value=\"Random Seed\")\n",
    "            with gr.Column(scale=2):\n",
    "                scale = gr.Slider(minimum = 1, maximum = 20, value= 7, step = 0.5, label=\"Guidance Scale\", interactive = True)\n",
    "        with gr.Row():\n",
    "            additional_options = gr.CheckboxGroup([\"Tiling\", \"SD Upscale\", \"Don't insert model keyword\"], interactive=True)\n",
    "            upscale_strength = gr.Slider(minimum = 0.1, maximum = 1, value=0.2, step = 0.05, label=\"Upscale Strength\", interactive = True)\n",
    "   \n",
    "    \n",
    "    return number_of_images, resolution, custom_width, custom_height, steps, sampler, seed, scale, additional_options, upscale_strength, reuse_seed_button, random_seed_button\n",
    "\n",
    "def show_state(input: str):\n",
    "    states = {\n",
    "        \"txt2img\": [True, False, False],\n",
    "        \"img2img\": [False, True, False],\n",
    "        \"inpainting\": [False, False, True]\n",
    "    }\n",
    "\n",
    "    txt2img_button = \"primary\" if states[input][0] else \"secondary\"\n",
    "    img2img_button = \"primary\" if states[input][1] else \"secondary\" \n",
    "    inpaint_button = \"primary\" if states[input][2] else \"secondary\"\n",
    "\n",
    "    return {\n",
    "        current_mode: input,\n",
    "        input_image: gr.update(visible = states[input][1]), \n",
    "        img2img_strength: gr.update(visible = states[input][1]),\n",
    "        inpaint_image: gr.update(visible = states[input][2]), \n",
    "        inpaint_strength: gr.update(visible = states[input][2]),\n",
    "        txt2img_show: gr.update(variant = txt2img_button), \n",
    "        img2img_show: gr.update(variant = img2img_button),  \n",
    "        inpaint_show: gr.update(variant = inpaint_button)\n",
    "        }\n",
    "\n",
    "with gr.Blocks(css=css) as main:\n",
    "    current_loaded_model_name = gr.State(\"Stable Diffusion 1.5\")\n",
    "    current_mode = gr.State(\"txt2img\")\n",
    "    last_used_seed = gr.State(-1)\n",
    "\n",
    "    with gr.Row():\n",
    "        model_name = gr.Dropdown(choices = list(SimpleStable.model_dict.keys()), value = \"Stable Diffusion 1.5\", show_label=False)\n",
    "        model_submit = gr.Button(value=\"Load Model\", interactive=True)\n",
    "    loading_status = gr.Markdown(\"\")\n",
    "\n",
    "    with gr.Row():\n",
    "        with gr.Column(scale=3):\n",
    "            with gr.Row():\n",
    "                txt2img_show = gr.Button(value=\"txt2img\", variant=\"primary\")\n",
    "                img2img_show = gr.Button(value=\"img2img\")\n",
    "                inpaint_show = gr.Button(value=\"inpainting\")\n",
    "\n",
    "            prompt = gr.Textbox(placeholder = \"Describe a prompt here\", label = \"Prompt\")\n",
    "            negative = gr.Textbox(placeholder = \"Negative prompt\", label = \"Negative\")\n",
    "\n",
    "            with gr.Blocks():\n",
    "                input_image = gr.Image(value=None, source=\"upload\", interactive=True, type=\"pil\", visible=False, elem_id=\"img2img_input\")\n",
    "                img2img_strength = gr.Slider(minimum = 0.1, maximum = 1, value=0.75, step = 0.05, label=\"img2img strength\", interactive = True, visible=False, elem_id=\"img2img_strength\")\n",
    "\n",
    "                inpaint_image = gr.Image(value=None, source=\"upload\", interactive=True, type=\"pil\", visible=False, tool=\"sketch\", elem_id=\"inpaint_input\")\n",
    "                inpaint_strength = gr.Slider(minimum = 0.1, maximum = 1, value=0.75, step = 0.05, label=\"inpaint strength\", interactive = True, visible=False, elem_id=\"inpaint_strength\")\n",
    "\n",
    "            number_of_images, resolution, custom_width, custom_height, steps, sampler, seed, scale, additional_options, upscale_strength, reuse_seed_button, random_seed_button = generate_options()\n",
    "        with gr.Column(scale=2):\n",
    "            button = gr.Button(value=\"Generate\", variant=\"primary\")\n",
    "            image_output = gr.Gallery(interactive = False)\n",
    "\n",
    "    model_submit.click(load_model, inputs=[current_loaded_model_name, model_name], outputs=[loading_status, current_loaded_model_name])\n",
    "\n",
    "    reuse_seed_button.click(lambda x: x, inputs=[last_used_seed], outputs=[seed])\n",
    "    random_seed_button.click(lambda : -1, inputs=[], outputs=[seed])\n",
    "\n",
    "    txt2img_show.click(show_state, inputs=[txt2img_show], outputs = [current_mode, input_image, img2img_strength, inpaint_image, inpaint_strength, txt2img_show, img2img_show, inpaint_show])\n",
    "    img2img_show.click(show_state, inputs=[img2img_show], outputs = [current_mode, input_image, img2img_strength, inpaint_image, inpaint_strength, txt2img_show, img2img_show, inpaint_show])\n",
    "    inpaint_show.click(show_state, inputs=[inpaint_show], outputs = [current_mode, input_image, img2img_strength, inpaint_image, inpaint_strength, txt2img_show, img2img_show, inpaint_show])\n",
    "\n",
    "    button.click(generate, inputs=[current_mode, prompt, negative, number_of_images, resolution, custom_width, custom_height, steps, sampler, seed, scale, additional_options, upscale_strength, input_image, img2img_strength, inpaint_image, inpaint_strength, current_loaded_model_name], outputs=[image_output, last_used_seed])\n",
    "\n",
    "\n",
    "main.queue()\n",
    "main.launch(debug=True)"
   ]
  }
 ],
 "metadata": {
  "kernelspec": {
   "display_name": "env",
   "language": "python",
   "name": "python3"
  },
  "language_info": {
   "codemirror_mode": {
    "name": "ipython",
    "version": 3
   },
   "file_extension": ".py",
   "mimetype": "text/x-python",
   "name": "python",
   "nbconvert_exporter": "python",
   "pygments_lexer": "ipython3",
   "version": "3.10.8"
  },
  "orig_nbformat": 4,
  "vscode": {
   "interpreter": {
    "hash": "1861d2fcc669060bd467c87c4aff1a502fd6347824067a83c8822180acbf3e1f"
   }
  }
 },
 "nbformat": 4,
 "nbformat_minor": 2
}
